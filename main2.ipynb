{
 "cells": [
  {
   "cell_type": "code",
   "execution_count": 16,
   "metadata": {},
   "outputs": [
    {
     "data": {
      "text/plain": [
       "<matplotlib.image.AxesImage at 0x7efd79439690>"
      ]
     },
     "execution_count": 16,
     "metadata": {},
     "output_type": "execute_result"
    },
    {
     "data": {
      "image/png": "[encoded data removed]",
      "text/plain": [
       "<Figure size 640x480 with 1 Axes>"
      ]
     },
     "metadata": {},
     "output_type": "display_data"
    }
   ],
   "source": [
    "import numpy as np\n",
    "import matplotlib.pyplot as plt\n",
    "import cv2\n",
    "import json\n",
    "\n",
    "config = json.load(open('/home/juheon727/scripts/config.json'))\n",
    "\n",
    "c1 = np.array(config['c1']).reshape((-1, 1, 1, 3))\n",
    "c2 = np.array(config['c2']).reshape((-1, 1, 1, 3))\n",
    "patch_size = config['patch_size']\n",
    "\n",
    "assert patch_size%2 == 1\n",
    "\n",
    "#print(c1, c2, sep='\\n')\n",
    "\n",
    "def classify_patches(img):\n",
    "    r, c, _ = img.shape\n",
    "    assert r%patch_size == 0 and c%patch_size == 0\n",
    "    imgs = img.reshape((1,) + img.shape)\n",
    "    dist1 = np.min(np.sqrt(np.sum((imgs - c1)**2, axis=-1)), axis=0)\n",
    "    dist2 = np.min(np.sqrt(np.sum((imgs - c2)**2, axis=-1)), axis=0)\n",
    "    #print(dist1, dist2, sep='\\n')\n",
    "    cls = np.where(dist1 > dist2, 1., 0.)\n",
    "    kernel = np.ones((2, 2))\n",
    "    cls = cv2.erode(cls, kernel, iterations=1)\n",
    "    ret = np.zeros(np.array(img.shape)[:-1]//patch_size)\n",
    "    for i in range(0, ret.shape[0]):\n",
    "        for j in range(0, ret.shape[1]):\n",
    "            if cls[patch_size*i:patch_size*(i+1), patch_size*j:patch_size*(j+1)].sum() > patch_size*patch_size//2:\n",
    "                ret[i][j] = 1\n",
    "    plt.imshow(cls)\n",
    "    #print(cls)\n",
    "    return ret\n",
    "\n",
    "img = cv2.imread('/home/juheon727/scripts/road.jpeg')\n",
    "img = cv2.resize(img, (224, 224))\n",
    "img = cv2.cvtColor(img, cv2.COLOR_BGR2RGB)\n",
    "#print(img.shape)\n",
    "#plt.imshow(img)\n",
    "ret = classify_patches(img)\n",
    "plt.imshow(ret)"
   ]
  }
 ],
 "metadata": {
  "kernelspec": {
   "display_name": "Python 3",
   "language": "python",
   "name": "python3"
  },
  "language_info": {
   "codemirror_mode": {
    "name": "ipython",
    "version": 3
   },
   "file_extension": ".py",
   "mimetype": "text/x-python",
   "name": "python",
   "nbconvert_exporter": "python",
   "pygments_lexer": "ipython3",
   "version": "3.10.12"
  }
 },
 "nbformat": 4,
 "nbformat_minor": 2
}
